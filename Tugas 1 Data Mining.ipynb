{
 "cells": [
  {
   "cell_type": "code",
   "execution_count": null,
   "metadata": {},
   "outputs": [],
   "source": [
    "import pandas as pd\n",
    "import numpy as np\n",
    "import matplotlib.pyplot as plt\n",
    "import seaborn as sns\n",
    "\n",
    "df = pd.read_csv(r\"c:\\archive\\heart_disease_uci.csv\")\n",
    "\n",
    "print (df.head())\n",
    "print (df.tail())"
   ]
  },
  {
   "cell_type": "code",
   "execution_count": null,
   "metadata": {},
   "outputs": [],
   "source": [
    "df.info()"
   ]
  },
  {
   "cell_type": "code",
   "execution_count": null,
   "metadata": {},
   "outputs": [],
   "source": [
    "df.isnull().sum()"
   ]
  },
  {
   "cell_type": "code",
   "execution_count": null,
   "metadata": {},
   "outputs": [],
   "source": [
    "df.describe()"
   ]
  },
  {
   "cell_type": "code",
   "execution_count": null,
   "metadata": {},
   "outputs": [],
   "source": [
    "mean_values = df.mean(numeric_only=True)\n",
    "print(mean_values)"
   ]
  },
  {
   "cell_type": "code",
   "execution_count": null,
   "metadata": {},
   "outputs": [],
   "source": [
    "mode_values = df.mode(numeric_only=True)\n",
    "print(mode_values)\n",
    "\n",
    "\n"
   ]
  },
  {
   "cell_type": "code",
   "execution_count": null,
   "metadata": {},
   "outputs": [],
   "source": [
    "stdv_values = df.std(numeric_only=True)\n",
    "print(stdv_values)\n"
   ]
  },
  {
   "cell_type": "code",
   "execution_count": null,
   "metadata": {},
   "outputs": [],
   "source": [
    "var_values = df.var(numeric_only=True)\n",
    "print(var_values)\n"
   ]
  },
  {
   "cell_type": "code",
   "execution_count": null,
   "metadata": {},
   "outputs": [],
   "source": [
    "skew_values = df.skew(numeric_only=True)\n",
    "print(skew_values)\n"
   ]
  },
  {
   "cell_type": "code",
   "execution_count": null,
   "metadata": {},
   "outputs": [],
   "source": [
    "kurt_values = df.kurt(numeric_only=True)\n",
    "print(kurt_values)\n"
   ]
  },
  {
   "cell_type": "code",
   "execution_count": null,
   "metadata": {},
   "outputs": [],
   "source": [
    "numeric_columns = df.select_dtypes(include = [np.number]).columns\n",
    "correlation_matrix = df [numeric_columns].corr()\n",
    "\n",
    "\n",
    "plt.figure(figsize=(12,10))\n",
    "sns.heatmap (correlation_matrix, annot = True,cmap='coolwarm', vmin=-1, vmax=1)\n",
    "plt.title('Correlation Matrix of Numeric Features')\n",
    "plt.show()\n"
   ]
  },
  {
   "cell_type": "code",
   "execution_count": null,
   "metadata": {},
   "outputs": [],
   "source": [
    "df.hist (bins= 30, figsize=(20,15))\n",
    "plt.show()\n"
   ]
  },
  {
   "cell_type": "code",
   "execution_count": null,
   "metadata": {},
   "outputs": [],
   "source": [
    "df.boxplot(figsize=(15, 10))\n",
    "plt.tight_layout()\n",
    "plt.show()\n"
   ]
  },
  {
   "cell_type": "code",
   "execution_count": null,
   "metadata": {},
   "outputs": [],
   "source": [
    "target_column = 'num'\n",
    "visualized_feature = ['age', 'trestbps', 'chol', 'thalch', 'oldpeak']\n",
    "\n",
    "sns.pairplot(df[visualized_feature + [target_column]], hue=target_column)\n",
    "plt.suptitle('Pair Plot untuk Fitur Utama', y=1.02)\n",
    "plt.show()\n",
    "\n",
    "fig, axes = plt.subplots(2, 2, figsize=(15, 15))\n",
    "axes = axes.ravel()\n",
    "\n",
    "for i, feature in enumerate(visualized_feature[:4]):\n",
    "    sns.scatterplot(data=df, x=feature, y='thalch', hue=target_column, ax=axes[i])\n",
    "    axes[i].set_title(f'{feature} vs thalch')\n",
    "\n",
    "plt.tight_layout()\n",
    "plt.show()\n"
   ]
  },
  {
   "cell_type": "code",
   "execution_count": null,
   "metadata": {},
   "outputs": [],
   "source": [
    "plt.figure(figsize=(12, 6))\n",
    "sns.boxplot(data=df)\n",
    "plt.xticks(rotation=90)\n",
    "plt.show()"
   ]
  },
  {
   "cell_type": "markdown",
   "metadata": {},
   "source": [
    "# LAPORAN DATA EXPLORATION AND SUMMARY STATISTICS\n",
    "\n",
    "Pada tugas kali ini, kita diminta untuk melakukan eksplorasi dan analisis awal terhadap dataset ntuk memahami karakteristik data,\n",
    "mengidentifikasi pola-pola utama, dan mengeksplorasi hubungan antara variabel yang mungkin mempengaruhi risiko penyakit jantung.\n",
    "\n",
    "Terdapat beberapa analisis yang dilakukan terhadap dataset. Untuk memahami karakteristik data dan hubungan antarvariabel. Dari hasil\n",
    "deskripsi statistik, diketahui bahwa usia rata-rata pasien adalah sekitar 54 tahun, dengan tekanan darah rata-rata 131 mmHg, dan \n",
    "kolesterol rata-rata 246 mg/dL. Analisis distribusi menunjukkan bahwa beberapa fitur, seperti kolesterol dan tekanan darah,\n",
    "memiliki distribusi yang sedikit miring, menandakan adanya distribusi yang tidak normal. Selain itu, fitur oldpeak menunjukkan tingkat\n",
    "kurtosis yang tinggi, yang berarti data tersebut memiliki puncak distribusi yang tajam. Analisis korelasi antara fitur-fitur menunjukkan adanya korelasi yang cukup kuat di antara beberapa fitur, terutama antara usia dengan tekanan darah, serta antara kolesterol dengan tekanan darah. Korelasi kuat antar variabel dalam analisis data menunjukkan adanya hubungan signifikan antara dua variabel, di mana perubahan dalam satu variabel cenderung disertai dengan perubahan yang konsisten dalam variabel lainnya. \n",
    "\n",
    "Visualisasi mendalam melalui pairplot dan scatterplot mengungkapkan keterkaitan antara fitur utama seperti usia (age), tekanan darah\n",
    "istirahat (trestbps), kolesterol (chol), dan detak jantung maksimum (thalch) dengan target penyakit jantung. Pairplot menyoroti pola \n",
    "klasifikasi yang jelas antara fitur-fitur tersebut dan target, sementara scatterplot memperlihatkan hubungan spesifik antara fitur-fitur individual dengan thalch. Boxplot memberikan gambaran mengenai distribusi keseluruhan dari fitur-fitur dan mengidentifikasi adanya outlier.Keseluruhan analisis ini mengarah pada pemahaman yang lebih mendalam mengenai data dan faktor-faktor yang mempengaruhi penyakitjantung\n",
    "\n"
   ]
  }
 ],
 "metadata": {
  "kernelspec": {
   "display_name": "Python 3",
   "language": "python",
   "name": "python3"
  },
  "language_info": {
   "codemirror_mode": {
    "name": "ipython",
    "version": 3
   },
   "file_extension": ".py",
   "mimetype": "text/x-python",
   "name": "python",
   "nbconvert_exporter": "python",
   "pygments_lexer": "ipython3",
   "version": "3.11.9"
  }
 },
 "nbformat": 4,
 "nbformat_minor": 2
}
